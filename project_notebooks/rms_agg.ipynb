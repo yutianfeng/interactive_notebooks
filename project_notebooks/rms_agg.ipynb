{
 "cells": [
  {
   "cell_type": "code",
   "execution_count": null,
   "id": "8f31c02b",
   "metadata": {},
   "outputs": [],
   "source": [
    "import glob\n",
    "import pandas as pd\n"
   ]
  },
  {
   "cell_type": "code",
   "execution_count": null,
   "id": "f3c5c98d",
   "metadata": {},
   "outputs": [],
   "source": [
    "cd /media/tian/Backup_Protected/working/halo_pg/latest_intersect_cog/ffn/20201109_isolates/fasta_fnas/virus/PROKKA_10292021/clusts/hmmers/hmmerout/hits/cripsr/panaroo/reannotate/single_gene/gffs/results/rms/reiesnowidget"
   ]
  },
  {
   "cell_type": "code",
   "execution_count": null,
   "id": "384d48b2",
   "metadata": {},
   "outputs": [],
   "source": [
    "all_hits = []\n",
    "for f in glob.glob(\"*.hout\"):\n",
    "    with open(f,'r') as ofh:\n",
    "    \n",
    "        for line in ofh:\n",
    "            if '#' in line:\n",
    "                continue\n",
    "            hit = [line.split()[0], line.split()[2], float(line.split()[4])]\n",
    "            if hit[2] <= 0.000000001:\n",
    "                all_hits.append(hit)"
   ]
  },
  {
   "cell_type": "code",
   "execution_count": null,
   "id": "ac8f13a5",
   "metadata": {},
   "outputs": [],
   "source": [
    "cross_hit = pd.DataFrame(all_hits, columns=[\"group\", \"clust\", \"eval\"])\n",
    "cross_hit"
   ]
  },
  {
   "cell_type": "code",
   "execution_count": null,
   "id": "b2c3dc30",
   "metadata": {},
   "outputs": [],
   "source": [
    "cross_hit = pd.read_table(\"cross_hits_agg.tab\", index_col=0)\n",
    "cross_hit"
   ]
  },
  {
   "cell_type": "code",
   "execution_count": null,
   "id": "b49c6481",
   "metadata": {},
   "outputs": [],
   "source": [
    "cross_hit.to_csv(\"cross_hits_agg_ref.tab\", sep=\"\\t\")"
   ]
  },
  {
   "cell_type": "code",
   "execution_count": null,
   "id": "fd89023b",
   "metadata": {},
   "outputs": [],
   "source": [
    "uniques = list(cross_hit.group.unique())"
   ]
  },
  {
   "cell_type": "code",
   "execution_count": null,
   "id": "ec46200d",
   "metadata": {},
   "outputs": [],
   "source": [
    "uniques"
   ]
  },
  {
   "cell_type": "code",
   "execution_count": null,
   "id": "186080f5",
   "metadata": {},
   "outputs": [],
   "source": [
    "data = []\n",
    "for items in uniques:\n",
    "    check = cross_hit.loc[cross_hit['group'] == items].sort_values(by='eval',axis=0)\n",
    "    data.append(list(check.head(1).values))"
   ]
  },
  {
   "cell_type": "code",
   "execution_count": null,
   "id": "b3981da3",
   "metadata": {},
   "outputs": [],
   "source": [
    "check = cross_hit.loc[cross_hit['group'] == \"group_6162_1\"].sort_values(by='eval',axis=0)"
   ]
  },
  {
   "cell_type": "code",
   "execution_count": null,
   "id": "1f43fccf",
   "metadata": {},
   "outputs": [],
   "source": [
    "#data = []\n",
    "data.append(list(check.head(1).values))"
   ]
  },
  {
   "cell_type": "code",
   "execution_count": null,
   "id": "7ac40c69",
   "metadata": {},
   "outputs": [],
   "source": [
    "emant = pd.DataFrame(data)\n",
    "emant.to_csv(\"top_hits.tab\", sep=\"\\t\")"
   ]
  },
  {
   "cell_type": "code",
   "execution_count": null,
   "id": "1153529d",
   "metadata": {},
   "outputs": [],
   "source": [
    "tophits = pd.read_table(\"top_hits.tab\", header=None)\n",
    "tophits.columns = [\"group\", \"clust\", \"eval\"]\n",
    "tophits"
   ]
  },
  {
   "cell_type": "code",
   "execution_count": null,
   "id": "4e0ecde0",
   "metadata": {},
   "outputs": [],
   "source": [
    "tophits.loc[tophits['group'] == \"group_3879_1\"]"
   ]
  },
  {
   "cell_type": "code",
   "execution_count": null,
   "id": "1be3b2c5",
   "metadata": {},
   "outputs": [],
   "source": [
    "rebase_groups = []\n",
    "for items in tophits.group.unique():\n",
    "    rebase_groups.append(\"_\".join(items.split(\"_\")[:-1]))"
   ]
  },
  {
   "cell_type": "code",
   "execution_count": null,
   "id": "964652ab",
   "metadata": {},
   "outputs": [],
   "source": [
    "for items in tophits.clust.unique():\n",
    "    print(items, file=open(\"clust_names.txt\",\"a\"))"
   ]
  },
  {
   "cell_type": "code",
   "execution_count": null,
   "id": "7e6621a5",
   "metadata": {},
   "outputs": [],
   "source": [
    "eggnog_groups = ['group_3041',\n",
    " 'group_122',\n",
    " 'group_5161',\n",
    " 'group_721',\n",
    " 'group_6701',\n",
    " 'group_6583',\n",
    " 'group_2850',\n",
    " 'group_1714',\n",
    " 'group_6386',\n",
    " 'group_1344',\n",
    " 'group_7322',\n",
    " 'group_905',\n",
    " 'group_581',\n",
    " 'group_84',\n",
    " 'group_5242',\n",
    " 'group_3501',\n",
    " 'group_2197',\n",
    " 'group_6257',\n",
    " 'group_1560',\n",
    " 'group_1066',\n",
    " 'group_28',\n",
    " 'group_6364',\n",
    " 'group_5683',\n",
    " 'group_1419',\n",
    " 'group_719',\n",
    " 'group_6728',\n",
    " 'group_6336',\n",
    " 'group_3440',\n",
    " 'group_2081',\n",
    " 'group_583',\n",
    " 'group_388',\n",
    " 'group_86',\n",
    " 'group_81',\n",
    " 'group_31',\n",
    " 'group_6891',\n",
    " 'group_6855',\n",
    " 'group_5702',\n",
    " 'group_1859',\n",
    " 'group_1468',\n",
    " 'group_1454',\n",
    " 'group_1392',\n",
    " 'group_941',\n",
    " 'group_880',\n",
    " 'group_720',\n",
    " 'group_571',\n",
    " 'group_403',\n",
    " 'group_346',\n",
    " 'group_87',\n",
    " 'group_25',\n",
    " 'group_24',\n",
    " 'group_7338',\n",
    " 'group_7274',\n",
    " 'group_6985',\n",
    " 'group_6970',\n",
    " 'group_6870',\n",
    " 'group_4290',\n",
    " 'group_3168',\n",
    " 'group_2638',\n",
    " 'group_2087',\n",
    " 'group_1726',\n",
    " 'group_1725',\n",
    " 'group_1270',\n",
    " 'group_1117',\n",
    " 'group_979',\n",
    " 'group_975',\n",
    " 'group_889',\n",
    " 'group_846',\n",
    " 'group_822',\n",
    " 'group_813',\n",
    " 'group_811',\n",
    " 'group_763',\n",
    " 'group_723',\n",
    " 'group_722',\n",
    " 'group_668',\n",
    " 'group_552',\n",
    " 'group_384',\n",
    " 'group_285',\n",
    " 'group_93',\n",
    " 'group_82',\n",
    " 'group_46',\n",
    " 'group_45',\n",
    " 'group_44',\n",
    " 'group_40',\n",
    " 'group_35',\n",
    " 'group_34',\n",
    " 'group_29',\n",
    " 'group_27',\n",
    " 'group_26',\n",
    " 'group_23',\n",
    " 'group_19']"
   ]
  },
  {
   "cell_type": "code",
   "execution_count": null,
   "id": "26e409ad",
   "metadata": {},
   "outputs": [],
   "source": [
    "captured  = set(rebase_groups) & set(eggnog_groups)"
   ]
  },
  {
   "cell_type": "code",
   "execution_count": null,
   "id": "e4a8da53",
   "metadata": {},
   "outputs": [],
   "source": [
    "rebase_groups"
   ]
  },
  {
   "cell_type": "code",
   "execution_count": null,
   "id": "3fbc7ec7",
   "metadata": {},
   "outputs": [],
   "source": [
    "cd D:\\bioinfo\\halo_pg\\rms\\rms_ref.tar\\clust_aligns"
   ]
  },
  {
   "cell_type": "code",
   "execution_count": null,
   "id": "806136d1",
   "metadata": {},
   "outputs": [],
   "source": [
    "for group in glob.glob(\"*.fa\"):   \n",
    "    with open(group) as ofh:\n",
    "        saved = \"\"\n",
    "        for line in ofh:\n",
    "            if line.startswith(\">\"):\n",
    "                if len(line) > len(saved):\n",
    "                    saved = line\n",
    "        print(group[:-3] + \"_1\\t\" +saved, file=open('reb_annotate.tab', \"a\"))\n",
    "            "
   ]
  },
  {
   "cell_type": "code",
   "execution_count": null,
   "id": "ebc71d28",
   "metadata": {
    "scrolled": true
   },
   "outputs": [],
   "source": [
    "rms_annotations = pd.read_csv(\"reb_annotate.tab\", sep=\"_1\\t\", header=None)\n",
    "rms_annotations.columns = [\"group\", \"info\"]\n",
    "rms_annotations"
   ]
  },
  {
   "cell_type": "code",
   "execution_count": null,
   "id": "8adf5d2e",
   "metadata": {},
   "outputs": [],
   "source": [
    "rms_dict = rms_annotations.set_index('group').to_dict(orient=\"index\")\n",
    "rms_dict    "
   ]
  },
  {
   "cell_type": "code",
   "execution_count": null,
   "id": "a82d5273",
   "metadata": {},
   "outputs": [],
   "source": [
    "rms_dict['rms_clust10911'][\"info\"]"
   ]
  },
  {
   "cell_type": "code",
   "execution_count": null,
   "id": "09b4ae50",
   "metadata": {},
   "outputs": [],
   "source": [
    "good_groups = []\n",
    "with open(\"../good_groups.txt\") as ofh:\n",
    "    for line in ofh:\n",
    "        line = line.strip()\n",
    "        good_groups.append(line+ \"_1\")"
   ]
  },
  {
   "cell_type": "code",
   "execution_count": null,
   "id": "55c658a5",
   "metadata": {},
   "outputs": [],
   "source": [
    "for indy, row in tophits.iterrows():\n",
    "    if row['group'] in good_groups:\n",
    "        print(row['group'] +\";\" +row[\"clust\"] + \";\" + rms_dict[row[\"clust\"]][\"info\"], file=open(\"good_rms_all_annotate.tab\",'a'))"
   ]
  },
  {
   "cell_type": "code",
   "execution_count": null,
   "id": "c5d712ed",
   "metadata": {},
   "outputs": [],
   "source": [
    "len(good_groups)"
   ]
  },
  {
   "cell_type": "code",
   "execution_count": null,
   "id": "cbb8fa9a",
   "metadata": {},
   "outputs": [],
   "source": [
    "reb_hits = pd.read_table(\"top_hits.tab\",header=None)\n",
    "reb_hits.columns = [\"group\", \"reb\", \"eval\"]\n",
    "reb_hits"
   ]
  },
  {
   "cell_type": "code",
   "execution_count": null,
   "id": "cc6c5fc7",
   "metadata": {
    "scrolled": true
   },
   "outputs": [],
   "source": [
    "#group, reb, info\n",
    "reb_anno = pd.read_table(\"good_rms_all_annotate.tab\")\n",
    "reb_anno"
   ]
  },
  {
   "cell_type": "code",
   "execution_count": null,
   "id": "c823db90",
   "metadata": {},
   "outputs": [],
   "source": [
    "#cluster, evalue, eggNog_ogs, desritpion, preferred_name\n",
    "egged = pd.read_table(\"reference.emapper.annotations.tsv\", comment='#')\n",
    "egged"
   ]
  },
  {
   "cell_type": "code",
   "execution_count": null,
   "id": "ee9da2c6",
   "metadata": {},
   "outputs": [],
   "source": [
    "egg_d = egged.to_dict(orient='split')\n",
    "egg_d"
   ]
  },
  {
   "cell_type": "code",
   "execution_count": null,
   "id": "ef891558",
   "metadata": {},
   "outputs": [],
   "source": []
  }
 ],
 "metadata": {
  "kernelspec": {
   "display_name": "Python 3 (ipykernel)",
   "language": "python",
   "name": "python3"
  },
  "language_info": {
   "codemirror_mode": {
    "name": "ipython",
    "version": 3
   },
   "file_extension": ".py",
   "mimetype": "text/x-python",
   "name": "python",
   "nbconvert_exporter": "python",
   "pygments_lexer": "ipython3",
   "version": "3.9.12"
  },
  "toc": {
   "base_numbering": 1,
   "nav_menu": {},
   "number_sections": true,
   "sideBar": true,
   "skip_h1_title": false,
   "title_cell": "Table of Contents",
   "title_sidebar": "Contents",
   "toc_cell": false,
   "toc_position": {},
   "toc_section_display": true,
   "toc_window_display": false
  },
  "varInspector": {
   "cols": {
    "lenName": 16,
    "lenType": 16,
    "lenVar": 40
   },
   "kernels_config": {
    "python": {
     "delete_cmd_postfix": "",
     "delete_cmd_prefix": "del ",
     "library": "var_list.py",
     "varRefreshCmd": "print(var_dic_list())"
    },
    "r": {
     "delete_cmd_postfix": ") ",
     "delete_cmd_prefix": "rm(",
     "library": "var_list.r",
     "varRefreshCmd": "cat(var_dic_list()) "
    }
   },
   "types_to_exclude": [
    "module",
    "function",
    "builtin_function_or_method",
    "instance",
    "_Feature"
   ],
   "window_display": false
  }
 },
 "nbformat": 4,
 "nbformat_minor": 5
}
