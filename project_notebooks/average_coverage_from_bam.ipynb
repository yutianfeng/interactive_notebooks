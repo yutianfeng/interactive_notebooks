{
 "cells": [
  {
   "cell_type": "code",
   "execution_count": 5,
   "id": "5fad1786",
   "metadata": {},
   "outputs": [
    {
     "name": "stdout",
     "output_type": "stream",
     "text": [
      "/home/tian/Documents/working/inteins_in_mg/deadn6/read_mapping/intein_map/expanded_map\n"
     ]
    }
   ],
   "source": [
    "cd /home/tian/Documents/working/inteins_in_mg/deadn6/read_mapping/intein_map/expanded_map/"
   ]
  },
  {
   "cell_type": "code",
   "execution_count": 2,
   "id": "7f117022",
   "metadata": {},
   "outputs": [],
   "source": [
    "storage = {}\n",
    "with open(\"dn6_all_compet.summary.tab\",'r') as ofh:\n",
    "    for line in ofh:\n",
    "        storage[\"intein\"+line.split(\"\\t\")[0][6:]] = None"
   ]
  },
  {
   "cell_type": "code",
   "execution_count": 9,
   "id": "ce40fa79",
   "metadata": {},
   "outputs": [],
   "source": [
    "for inteins in storage.keys():\n",
    "    total = 0\n",
    "    length = 1\n",
    "    with open(\"dn6_zeros_int_avg.tab\", 'r') as ofh:\n",
    "        for line in ofh:\n",
    "            if line.split(\"\\t\")[0] == inteins:\n",
    "                total += int(line.split(\"\\t\")[2].strip())\n",
    "                length += 1\n",
    "    storage[inteins] = [total, length]"
   ]
  },
  {
   "cell_type": "code",
   "execution_count": 7,
   "id": "2a485e5c",
   "metadata": {},
   "outputs": [
    {
     "data": {
      "text/plain": [
       "{'inteinPROKKA_04836_1': [386118, 1591],\n",
       " 'inteinPROKKA_04836_2': [374432, 1570],\n",
       " 'inteinPROKKA_04836_3': [399661, 1567],\n",
       " 'inteinPROKKA_10411_1': [52864, 1591],\n",
       " 'inteinPROKKA_10411_2': [15216, 573],\n",
       " 'inteinPROKKA_10411_3': [69896, 1546],\n",
       " 'inteinPROKKA_15723_1': [87052, 1893],\n",
       " 'inteinPROKKA_15723_2': [75575, 1615],\n",
       " 'inteinPROKKA_01860_1': [159432, 1591],\n",
       " 'inteinPROKKA_01860_2': [220402, 1573],\n",
       " 'inteinPROKKA_01860_3': [75192, 601],\n",
       " 'inteinPROKKA_28515_1': [127460, 1551],\n",
       " 'inteinPROKKA_28515_2': [91497, 1612],\n",
       " 'inteinPROKKA_56693_1': [94523, 1957],\n",
       " 'inteinPROKKA_11155_1': [150954, 1569],\n",
       " 'inteinPROKKA_11155_2': [217622, 1567],\n",
       " 'inteinPROKKA_11924_1': [493663, 1312],\n",
       " 'inteinPROKKA_11924_2': [111604, 454],\n",
       " 'inteinPROKKA_11924_3': [416542, 1312],\n",
       " 'inteinPROKKA_43840_1': [688176, 1354],\n",
       " 'inteinPROKKA_43840_2': [506987, 1072],\n",
       " 'inteinPROKKA_43840_3': [732582, 1306],\n",
       " 'inteinPROKKA_57581_1': [82168, 1230],\n",
       " 'inteinPROKKA_57581_2': [94168, 1306],\n",
       " 'inteinPROKKA_43693_1': [36564, 1062],\n",
       " 'inteinPROKKA_43693_2': [62453, 1320],\n",
       " 'inteinPROKKA_57021_1': [32824, 1257],\n",
       " 'inteinPROKKA_57021_2': [37648, 1312],\n",
       " 'inteinPROKKA_34899_1': [43369, 1210],\n",
       " 'inteinPROKKA_34899_2': [71086, 1237],\n",
       " 'inteinPROKKA_22293_1': [489746, 1237],\n",
       " 'inteinPROKKA_22293_2': [521278, 1318],\n",
       " 'inteinPROKKA_29120_1': [358124, 1915],\n",
       " 'inteinPROKKA_44998_1': [78465, 1210],\n",
       " 'inteinPROKKA_44998_2': [110871, 1237],\n",
       " 'inteinPROKKA_82101_1': [339157, 1933],\n",
       " 'inteinPROKKA_67135_1': [30940, 1574],\n",
       " 'inteinPROKKA_39561_1': [54104, 1486],\n",
       " 'inteinPROKKA_39561_2': [232618, 1552],\n",
       " 'inteinPROKKA_35890_1': [53384, 1569],\n",
       " 'inteinPROKKA_53622_1': [34424, 1537],\n",
       " 'inteinPROKKA_58612_1': [132698, 1477],\n",
       " 'inteinPROKKA_46065_1': [461084, 1480],\n",
       " 'inteinPROKKA_00348_1': [151877, 1354],\n",
       " 'inteinPROKKA_00348_2': [117710, 1209],\n",
       " 'inteinPROKKA_01972_1': [179145, 1532],\n",
       " 'inteinPROKKA_05732_1': [83354, 1533],\n",
       " 'inteinPROKKA_15669_1': [14794, 551],\n",
       " 'inteinPROKKA_15669_2': [51134, 1552],\n",
       " 'inteinPROKKA_45342_1': [67455, 1118],\n",
       " 'inteinPROKKA_51708_1': [66741, 1420],\n",
       " 'inteinPROKKA_53629_1': [1364882, 1558],\n",
       " 'inteinPROKKA_36039_1': [19010, 541],\n",
       " 'inteinPROKKA_36039_2': [101060, 1558],\n",
       " 'inteinPROKKA_30896_1': [55304, 1400],\n",
       " 'inteinPROKKA_02043_1': [106905, 565],\n",
       " 'inteinPROKKA_02043_2': [506874, 1555],\n",
       " 'inteinPROKKA_24121_1': [306795, 1303],\n",
       " 'inteinPROKKA_22364_1': [723996, 1621],\n",
       " 'inteinPROKKA_00389_1': [110811, 1120],\n",
       " 'inteinPROKKA_69031_1': [49711, 1117],\n",
       " 'inteinPROKKA_12371_1': [191690, 1120],\n",
       " 'inteinPROKKA_18941_1': [25976, 538],\n",
       " 'inteinPROKKA_18941_2': [91521, 1553],\n",
       " 'inteinPROKKA_90848_1': [392174, 1318],\n",
       " 'inteinPROKKA_07315_1': [249769, 1117],\n",
       " 'inteinPROKKA_49653_1': [36464, 1195],\n",
       " 'inteinPROKKA_19542_1': [228203, 2101],\n",
       " 'inteinPROKKA_27467_1': [100730, 1237],\n",
       " 'inteinPROKKA_34831_1': [54179, 1303],\n",
       " 'inteinPROKKA_03805_1': [188905, 520],\n",
       " 'inteinPROKKA_03805_2': [979187, 1555],\n",
       " 'inteinPROKKA_31038_1': [1337507, 1240],\n",
       " 'inteinPROKKA_26076_1': [285049, 1321],\n",
       " 'inteinPROKKA_08076_1': [259718, 1237],\n",
       " 'inteinPROKKA_81762_1': [18537, 1264],\n",
       " 'inteinPROKKA_03615_1': [100059, 1210],\n",
       " 'inteinPROKKA_73456_1': [9588, 475],\n",
       " 'inteinPROKKA_24054_1': [40001, 1212],\n",
       " 'inteinPROKKA_00781_1': [214672, 1693],\n",
       " 'inteinPROKKA_07005_1': [592072, 1717],\n",
       " 'inteinPROKKA_21380_1': [596500, 1552],\n",
       " 'inteinPROKKA_43886_1': [35107, 1711],\n",
       " 'inteinPROKKA_69955_1': [239163, 1417],\n",
       " 'inteinPROKKA_12769_1': [94827, 1296],\n",
       " 'inteinPROKKA_64665_1': [25103, 1549],\n",
       " 'inteinPROKKA_53103_1': [33807, 1552],\n",
       " 'inteinPROKKA_32022_1': [375799, 1717],\n",
       " 'inteinPROKKA_06752_1': [628630, 1561],\n",
       " 'inteinPROKKA_38767_1': [39892, 1297],\n",
       " 'inteinPROKKA_32500_1': [48334, 1561],\n",
       " 'inteinPROKKA_38019_1': [172797, 1549],\n",
       " 'inteinPROKKA_01083_1': [189261, 1708],\n",
       " 'inteinPROKKA_43690_1': [151347, 1711],\n",
       " 'inteinPROKKA_79632_1': [18265, 1185],\n",
       " 'inteinPROKKA_70734_1': [19090, 577],\n",
       " 'inteinPROKKA_01082_1': [131338, 1717],\n",
       " 'inteinPROKKA_38614_1': [64732, 1192],\n",
       " 'inteinPROKKA_38043_1': [45779, 1399],\n",
       " 'inteinPROKKA_48860_1': [110329, 1698],\n",
       " 'inteinPROKKA_00780_1': [162401, 1711],\n",
       " 'inteinPROKKA_38418_1': [87856, 1189],\n",
       " 'inteinPROKKA_31796_1': [55958, 1396],\n",
       " 'inteinPROKKA_27776_1': [51748, 1772],\n",
       " 'inteinPROKKA_107566_1': [60810, 1441],\n",
       " 'inteinPROKKA_08978_1': [64159, 1189],\n",
       " 'inteinPROKKA_39362_1': [573629, 1441],\n",
       " 'inteinPROKKA_31259_1': [59646, 1595],\n",
       " 'inteinPROKKA_74045_1': [251229, 1441],\n",
       " 'inteinPROKKA_34468_1': [21181, 694],\n",
       " 'inteinPROKKA_60941_1': [256851, 811],\n",
       " 'inteinPROKKA_89024_1': [7213, 473],\n",
       " 'inteinPROKKA_67436_1': [546866, 1429],\n",
       " 'inteinPROKKA_43942_1': [1170789, 1156],\n",
       " 'inteinPROKKA_24954_1': [40412, 1441],\n",
       " 'inteinPROKKA_00516_1': [442798, 1615],\n",
       " 'inteinPROKKA_82036_1': [90424, 607],\n",
       " 'inteinPROKKA_42198_1': [9442, 617],\n",
       " 'inteinPROKKA_04080_1': [40396, 1447],\n",
       " 'inteinPROKKA_47475_1': [17424, 616],\n",
       " 'inteinPROKKA_86184_1': [14546, 531],\n",
       " 'inteinPROKKA_38731_1': [14400, 1033],\n",
       " 'inteinPROKKA_38431_1': [17667, 530],\n",
       " 'inteinPROKKA_30871_1': [116715, 1437],\n",
       " 'inteinPROKKA_110658_1': [38381, 1081],\n",
       " 'inteinPROKKA_35178_1': [91436, 1419],\n",
       " 'inteinPROKKA_49215_1': [31339, 1345],\n",
       " 'inteinPROKKA_11648_1': [355524, 1432],\n",
       " 'inteinPROKKA_85435_1': [164726, 1417],\n",
       " 'inteinPROKKA_28115_1': [72001, 1288],\n",
       " 'inteinPROKKA_09208_1': [133769, 1432],\n",
       " 'inteinPROKKA_45933_1': [36135, 1420],\n",
       " 'inteinPROKKA_42202_1': [17769, 610]}"
      ]
     },
     "execution_count": 7,
     "metadata": {},
     "output_type": "execute_result"
    }
   ],
   "source": [
    "storage"
   ]
  },
  {
   "cell_type": "code",
   "execution_count": 10,
   "id": "4c99c326",
   "metadata": {},
   "outputs": [],
   "source": [
    "for intein, avgs in storage.items():\n",
    "    print(\"{}\\t{}\".format(intein, avgs[0]/avgs[1]), file=open(\"dn6_avg_zero_int_cov.tab\",'a'))"
   ]
  }
 ],
 "metadata": {
  "kernelspec": {
   "display_name": "Python 3 (ipykernel)",
   "language": "python",
   "name": "python3"
  },
  "language_info": {
   "codemirror_mode": {
    "name": "ipython",
    "version": 3
   },
   "file_extension": ".py",
   "mimetype": "text/x-python",
   "name": "python",
   "nbconvert_exporter": "python",
   "pygments_lexer": "ipython3",
   "version": "3.9.12"
  }
 },
 "nbformat": 4,
 "nbformat_minor": 5
}
