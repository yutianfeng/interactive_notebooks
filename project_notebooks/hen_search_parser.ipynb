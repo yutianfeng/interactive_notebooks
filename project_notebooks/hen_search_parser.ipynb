{
 "cells": [
  {
   "cell_type": "code",
   "execution_count": 12,
   "id": "0eddc82e",
   "metadata": {},
   "outputs": [
    {
     "name": "stdout",
     "output_type": "stream",
     "text": [
      "/home/tian/Documents/working/inteins_in_mg/atlit/hen_search\n"
     ]
    }
   ],
   "source": [
    "cd /home/tian/Documents/working/inteins_in_mg/atlit/hen_search/"
   ]
  },
  {
   "cell_type": "code",
   "execution_count": 13,
   "id": "3fd4465a",
   "metadata": {},
   "outputs": [],
   "source": [
    "hen_dict = {}\n",
    "with open(\"at.blocked\",\"r\") as ofh:\n",
    "    for line in ofh:\n",
    "        if line.split(\"\\t\")[0] in hen_dict.keys():\n",
    "            continue\n",
    "        else:\n",
    "            hen_dict[line.split(\"\\t\")[0]] = \"present\""
   ]
  },
  {
   "cell_type": "code",
   "execution_count": 15,
   "id": "81d01351",
   "metadata": {
    "scrolled": true
   },
   "outputs": [
    {
     "data": {
      "text/plain": [
       "33"
      ]
     },
     "execution_count": 15,
     "metadata": {},
     "output_type": "execute_result"
    }
   ],
   "source": [
    "len(hen_dict)"
   ]
  },
  {
   "cell_type": "code",
   "execution_count": 16,
   "id": "70bac90b",
   "metadata": {},
   "outputs": [],
   "source": [
    "for intein, status in hen_dict.items():\n",
    "    print(\"{}\\t{}\".format(intein, status), file =open(\"at_hen_agged.tab\",'a'))"
   ]
  }
 ],
 "metadata": {
  "kernelspec": {
   "display_name": "Python 3 (ipykernel)",
   "language": "python",
   "name": "python3"
  },
  "language_info": {
   "codemirror_mode": {
    "name": "ipython",
    "version": 3
   },
   "file_extension": ".py",
   "mimetype": "text/x-python",
   "name": "python",
   "nbconvert_exporter": "python",
   "pygments_lexer": "ipython3",
   "version": "3.9.12"
  }
 },
 "nbformat": 4,
 "nbformat_minor": 5
}
