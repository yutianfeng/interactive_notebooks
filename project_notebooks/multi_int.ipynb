{
 "cells": [
  {
   "cell_type": "code",
   "execution_count": null,
   "metadata": {},
   "outputs": [],
   "source": [
    "import pandas as pd\n",
    "import matplotlib.pyplot as plt\n",
    "import seaborn as sns\n",
    "import numpy as np\n",
    "import os\n",
    "import glob"
   ]
  },
  {
   "cell_type": "markdown",
   "metadata": {},
   "source": [
    "Preprocess hmmer out with tab script"
   ]
  },
  {
   "cell_type": "code",
   "execution_count": null,
   "metadata": {
    "scrolled": true
   },
   "outputs": [],
   "source": [
    "#from a blast search using inteins as a query and stanard blast output\n",
    "hwa = pd.read_table('hwa.htab', sep='\\t', lineterminator='\\n', skiprows=0)\n",
    "hwa"
   ]
  },
  {
   "cell_type": "code",
   "execution_count": null,
   "metadata": {},
   "outputs": [],
   "source": [
    "#get all n-terms, need to script _ instead of space and also get rid of #\n",
    "for indy,row in hwa.iterrows():\n",
    "    if row['hmm _oord_from'] > 25:\n",
    "        hwa.drop(index=indy, inplace=True)\n",
    "hwa"
   ]
  },
  {
   "cell_type": "code",
   "execution_count": null,
   "metadata": {},
   "outputs": [],
   "source": [
    "group = hwa.groupby('target_name')\n",
    "df2 = group.apply(lambda x: x['ali_coord_from'].unique())\n",
    "df2\n"
   ]
  },
  {
   "cell_type": "code",
   "execution_count": null,
   "metadata": {},
   "outputs": [],
   "source": [
    "HEN = pd.read_csv(\"hwa_protein.blocked\", sep='\\t',lineterminator='\\n', header=None)\n",
    "HEN.columns = ['gene', 'motif', 'coord']\n",
    "hen_groups = HEN.groupby('gene')\n",
    "df3 = hen_groups.apply(lambda x: x['coord'].unique())\n",
    "intein_doms = {}\n",
    "for gene,c_list in df3.iteritems():\n",
    "    c_list.sort()\n",
    "    c_index =0 \n",
    "    c_iter = 1\n",
    "    while c_index < len(c_list):\n",
    "        if c_iter < len(c_list):\n",
    "            if c_list[c_iter] < (c_list[c_index] + 471):\n",
    "                c_list = np.delete(c_list, c_iter)\n",
    "                \n",
    "        c_index += 1\n",
    "        c_iter += 1\n",
    "    intein_doms[gene] = (c_list)\n",
    "intein_doms"
   ]
  },
  {
   "cell_type": "code",
   "execution_count": null,
   "metadata": {},
   "outputs": [],
   "source": [
    "HEN = pd.read_csv(\"hwa_protein.blocked\", sep='\\t',lineterminator='\\n', header=None)\n",
    "HEN.columns = ['gene', 'motif', 'coord']\n",
    "hen_groups = HEN.groupby('gene')\n",
    "df3 = hen_groups.apply(lambda x: x['coord'].unique())\n",
    "intein_doms = {}\n",
    "for gene,c_list in df3.iteritems():\n",
    "    c_list.sort()\n",
    "    c_index =0 \n",
    "    c_iter = 1\n",
    "    empty = []\n",
    "    while c_index < len(c_list):\n",
    "        if c_iter < len(c_list):\n",
    "            if c_list[c_iter] < (c_list[c_index] + 471):\n",
    "                c_list = np.delete(c_list, c_iter)\n",
    "                c_index -= 1\n",
    "                c_iter -= 1\n",
    "        c_index += 1\n",
    "        c_iter += 1\n",
    "    intein_doms[gene] = (c_list)\n",
    "intein_doms"
   ]
  },
  {
   "cell_type": "code",
   "execution_count": null,
   "metadata": {},
   "outputs": [],
   "source": [
    "for f in intein_doms:\n",
    "    print(len(intein_doms[f]))"
   ]
  },
  {
   "cell_type": "code",
   "execution_count": null,
   "metadata": {},
   "outputs": [],
   "source": [
    "multi_inteins = 0\n",
    "multi_hens = 0\n",
    "for f,j in df2.iteritems():\n",
    "    if len(j) > 1:\n",
    "        multi_inteins += 1\n",
    "        if f in HEN.values:\n",
    "            multi_hens += 1\n",
    "        \n",
    "        "
   ]
  },
  {
   "cell_type": "code",
   "execution_count": null,
   "metadata": {},
   "outputs": [],
   "source": [
    "multi_hens"
   ]
  },
  {
   "cell_type": "code",
   "execution_count": null,
   "metadata": {},
   "outputs": [],
   "source": [
    "multi_inteins \n",
    "import os"
   ]
  },
  {
   "cell_type": "code",
   "execution_count": null,
   "metadata": {},
   "outputs": [],
   "source": [
    "for fas in glob.glob(\"*.htab\"):\n",
    "    genome_name = fas[:13]\n",
    "    df2 = genome_name + \"2\"\n",
    "    \n",
    "    genome_name = pd.read_table(fas, sep='\\t', lineterminator='\\n', skiprows=0)\n",
    "    for indy,row in genome_name.iterrows():\n",
    "        if row['hmm _oord_from'] > 25:\n",
    "            genome_name.drop(index=indy, inplace=True)\n",
    "    \n",
    "    group = genome_name.groupby('target_name')\n",
    "    df2 = group.apply(lambda x: x['ali_coord_from'].unique())\n",
    "    #print(fas[:-5] + \"_protein.blocked\")\n",
    "    if os.stat(fas[:-5] + \"_protein.blocked\").st_size != 0:\n",
    "        HEN = pd.read_csv(fas[:-5] + \"_protein.blocked\", sep='\\t',lineterminator='\\n', header=None)\n",
    "        HEN.columns = ['gene', 'motif', 'coord']\n",
    "        hen_groups = HEN.groupby('gene')\n",
    "        df3 = hen_groups.apply(lambda x: x['coord'].unique())\n",
    "        intein_doms = {}\n",
    "        for gene,c_list in df3.iteritems():\n",
    "            c_list.sort()\n",
    "            c_index =0 \n",
    "            c_iter = 1\n",
    "            while c_index < len(c_list):\n",
    "                if c_iter < len(c_list):\n",
    "                    if c_list[c_iter] < (c_list[c_index] + 471):\n",
    "                        c_list = np.delete(c_list, c_iter)\n",
    "                        c_index -= 1\n",
    "                        c_iter -= 1\n",
    "                c_index += 1\n",
    "                c_iter += 1\n",
    "            intein_doms[gene] = (c_list)\n",
    "\n",
    "    multi_hens = 0\n",
    "    multi_inteins = 0\n",
    "    single = 0\n",
    "    single_hen =0\n",
    "    multiple = 0\n",
    "    multiple_hen = 0\n",
    "    for f,j in df2.iteritems():\n",
    "        \n",
    "        if len(j) > 1:\n",
    "            multiple = multiple + len(j)\n",
    "            multi_inteins += 1\n",
    "            if f in HEN.values:\n",
    "                multi_hens += 1\n",
    "            if f in intein_doms.keys():\n",
    "                \n",
    "                multiple_hen = multiple_hen + len(intein_doms[f])\n",
    "        if len(j) == 1:\n",
    "            single += 1\n",
    "            if f in HEN.values:\n",
    "                single_hen += 1\n",
    "    print(fas+ \"\\t\" + str(multi_inteins) + \"\\t\" + str(multi_hens) + \"\\t\" + str(single) + \"\\t\" + str(single_hen) + \"\\t\" + str(multiple) + \"\\t\" + str(multiple_hen), file=open(\"newcutoffs.tab\",'a'))"
   ]
  },
  {
   "cell_type": "code",
   "execution_count": null,
   "metadata": {},
   "outputs": [],
   "source": [
    "genomekey = pd.read_csv(\"ftpdirpaths.txt\", sep='\\t',lineterminator='\\n', header=None)\n",
    "genomekey.columns = ['name', 'accession']\n",
    "replacer = {}\n",
    "for index,row in genomekey.iterrows():\n",
    "    replacer[row['accession']] = row['name']\n",
    "replacer"
   ]
  },
  {
   "cell_type": "code",
   "execution_count": null,
   "metadata": {},
   "outputs": [],
   "source": [
    "archtab2 = pd.read_csv(\"newcutoffs.tab\", sep='\\t',lineterminator='\\n', header=None)\n",
    "archtab2.columns = ['name', 1, 2,3, 4, 5, 6]"
   ]
  },
  {
   "cell_type": "code",
   "execution_count": null,
   "metadata": {},
   "outputs": [],
   "source": [
    "for index,row in archtab2.iterrows():\n",
    "    archtab2.set_value(index, 'name', replacer[row['name']])\n",
    "archtab2.to_csv('named_newcutoff.csv', sep='\\t', index_label=None, line_terminator='\\n')"
   ]
  },
  {
   "cell_type": "code",
   "execution_count": null,
   "metadata": {},
   "outputs": [],
   "source": [
    "cd ../full_run1/"
   ]
  }
 ],
 "metadata": {
  "kernelspec": {
   "display_name": "Python 3 (ipykernel)",
   "language": "python",
   "name": "python3"
  },
  "language_info": {
   "codemirror_mode": {
    "name": "ipython",
    "version": 3
   },
   "file_extension": ".py",
   "mimetype": "text/x-python",
   "name": "python",
   "nbconvert_exporter": "python",
   "pygments_lexer": "ipython3",
   "version": "3.9.12"
  },
  "toc": {
   "base_numbering": 1,
   "nav_menu": {},
   "number_sections": true,
   "sideBar": true,
   "skip_h1_title": false,
   "title_cell": "Table of Contents",
   "title_sidebar": "Contents",
   "toc_cell": false,
   "toc_position": {},
   "toc_section_display": true,
   "toc_window_display": false
  },
  "varInspector": {
   "cols": {
    "lenName": 16,
    "lenType": 16,
    "lenVar": 40
   },
   "kernels_config": {
    "python": {
     "delete_cmd_postfix": "",
     "delete_cmd_prefix": "del ",
     "library": "var_list.py",
     "varRefreshCmd": "print(var_dic_list())"
    },
    "r": {
     "delete_cmd_postfix": ") ",
     "delete_cmd_prefix": "rm(",
     "library": "var_list.r",
     "varRefreshCmd": "cat(var_dic_list()) "
    }
   },
   "types_to_exclude": [
    "module",
    "function",
    "builtin_function_or_method",
    "instance",
    "_Feature"
   ],
   "window_display": false
  }
 },
 "nbformat": 4,
 "nbformat_minor": 2
}
