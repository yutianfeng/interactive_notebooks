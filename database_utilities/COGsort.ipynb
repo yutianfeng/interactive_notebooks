{
 "cells": [
  {
   "cell_type": "code",
   "execution_count": null,
   "metadata": {},
   "outputs": [],
   "source": [
    "import pandas as pd\n",
    "import matplotlib.pyplot as plt\n",
    "import seaborn as sns\n",
    "import numpy as np\n",
    "import glob, os\n",
    "import csv\n",
    "import re"
   ]
  },
  {
   "cell_type": "markdown",
   "metadata": {},
   "source": [
    "### replace fb21* with your genome of interest"
   ]
  },
  {
   "cell_type": "code",
   "execution_count": null,
   "metadata": {
    "scrolled": true
   },
   "outputs": [],
   "source": [
    "#you need to download or use via ftp some version of the arcog database\n",
    "\n",
    "cog_def = pd.read_csv(\"ar14.arCOGdef18.tab\", sep='\\t', lineterminator='\\n', header=None)\n",
    "cog_def.columns = ['ID', 'function', 'gene', 'product']\n",
    "cog_def\n"
   ]
  },
  {
   "cell_type": "code",
   "execution_count": null,
   "metadata": {},
   "outputs": [],
   "source": [
    "cog_prod = {}\n",
    "cog_name = {}\n",
    "\n",
    "for ind, row in cog_def.iterrows():\n",
    "    cog_prod[row['ID']] = row['product']\n",
    "    cog_name[row['ID']] = row['gene']\n",
    "    \n"
   ]
  },
  {
   "cell_type": "code",
   "execution_count": null,
   "metadata": {},
   "outputs": [],
   "source": [
    "#load in gff file, which is the genome you want to annotate. \n",
    "\n",
    "\n",
    "with open('fb21.def.gff', 'r') as gff:\n",
    "    for line in gff:\n",
    "        line = line.strip()\n",
    "        if not line:\n",
    "            continue\n",
    "        if 'arCOG' in line and 'hypothetical protein' in line:\n",
    "            fam_num = 'arCOG' + (line.split('arCOG')[2][:5])\n",
    "            #print(line[:-20])\n",
    "            print(line[:-20] + cog_prod[fam_num],file=open('fb21.def.renamed.gff', 'a'))\n",
    "        "
   ]
  },
  {
   "cell_type": "code",
   "execution_count": null,
   "metadata": {
    "scrolled": true
   },
   "outputs": [],
   "source": [
    "gff_def = pd.read_csv(\"gff/fb21.gff\", sep='\\t', lineterminator='\\n', header=None)\n",
    "gff_def.columns = ['contig', 'method', 'type', 'start', 'stop', 'mark', 'strand', 'zero', 'tags']\n",
    "gff_def\n",
    "\n",
    "        "
   ]
  },
  {
   "cell_type": "code",
   "execution_count": null,
   "metadata": {},
   "outputs": [],
   "source": [
    "name_switch = {}\n",
    "accession_switcheroo = {}\n",
    "for ind, row in gff_def.iterrows():\n",
    "    head = row['tags'].split('product=',1)[1]\n",
    "    current = (row['contig'] + ':' + str(row['start'] -1) + '-' + str(row['stop']) + '(' + row['strand'] + ')')\n",
    "    name_switch[current] = head\n",
    "    accession_switcheroo[current] = row['tags'][3:17]\n",
    "accession_switcheroo"
   ]
  },
  {
   "cell_type": "code",
   "execution_count": null,
   "metadata": {},
   "outputs": [],
   "source": [
    "#for the ffn or nucleotide sequences: locus tag | position | product\n",
    "with open('fb21.ffn', 'r') as ffn_bad:\n",
    "    for line in ffn_bad:\n",
    "        line = line.strip()\n",
    "        if not line:\n",
    "            continue\n",
    "        if line.startswith('>'):\n",
    "            print('>' + accession_switcheroo[line[1:]] + '|' + line[1:] + '|' +name_switch[line[1:]],file=open('fb21.renamed.ffn', 'a'))\n",
    "        if not line.startswith('>'):\n",
    "            print(line, file=open('fb21.renamed.ffn', 'a'))\n"
   ]
  },
  {
   "cell_type": "code",
   "execution_count": null,
   "metadata": {},
   "outputs": [],
   "source": [
    "rev_accession_switcheroo = {y:x for x,y in accession_switcheroo.items()}\n",
    "rev_accession_switcheroo"
   ]
  },
  {
   "cell_type": "code",
   "execution_count": null,
   "metadata": {},
   "outputs": [],
   "source": [
    "#you can do this for amino acid seqs too\n",
    "with open('hez_fb21.faa', 'r') as faa:\n",
    "    for line in faa:\n",
    "        line = line.strip()\n",
    "        if not line:\n",
    "            continue\n",
    "        if line.startswith('>'):\n",
    "            loci = line[1:15]\n",
    "            if loci in rev_accession_switcheroo.keys():\n",
    "                print('>' + loci + '|' + rev_accession_switcheroo[loci] + \"|\" + name_switch[rev_accession_switcheroo[loci]], file=open('fb21.renamed.faa','a'))\n",
    "            else:\n",
    "                print('>' + line[1:], file=open('fb21.renamed.faa','a'))\n",
    "        if not line.startswith('>'):\n",
    "            print(line, file=open('fb21.renamed.faa','a'))"
   ]
  }
 ],
 "metadata": {
  "kernelspec": {
   "display_name": "Python 3 (ipykernel)",
   "language": "python",
   "name": "python3"
  },
  "language_info": {
   "codemirror_mode": {
    "name": "ipython",
    "version": 3
   },
   "file_extension": ".py",
   "mimetype": "text/x-python",
   "name": "python",
   "nbconvert_exporter": "python",
   "pygments_lexer": "ipython3",
   "version": "3.9.12"
  }
 },
 "nbformat": 4,
 "nbformat_minor": 2
}
