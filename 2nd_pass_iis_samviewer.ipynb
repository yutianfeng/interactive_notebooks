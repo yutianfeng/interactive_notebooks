{
 "cells": [
  {
   "cell_type": "code",
   "execution_count": null,
   "id": "61816a44",
   "metadata": {},
   "outputs": [],
   "source": [
    "import pandas as pd\n",
    "import numpy as np\n",
    "import glob\n",
    "from cigar import Cigar"
   ]
  },
  {
   "cell_type": "code",
   "execution_count": null,
   "id": "8942923d",
   "metadata": {},
   "outputs": [],
   "source": [
    "c = Cigar(\"151M1D24M\")\n",
    "cig_dict = dict(c.items())\n",
    "rev_cig_dict = {}\n",
    "for k,v in cig_dict.items():\n",
    "    if v in rev_cig_dict.keys():\n",
    "        rev_cig_dict[v] += k\n",
    "    else:\n",
    "        rev_cig_dict[v] = k\n",
    "rev_cig_dict"
   ]
  },
  {
   "cell_type": "code",
   "execution_count": null,
   "id": "1e273e21",
   "metadata": {},
   "outputs": [],
   "source": [
    "cd /home/tian/Documents/working/inteins_in_mg/deadn6/read_mapping/competitive_trial/complete_reads/"
   ]
  },
  {
   "cell_type": "code",
   "execution_count": null,
   "id": "d1d895fe",
   "metadata": {},
   "outputs": [],
   "source": [
    "at_coords = {}\n",
    "with open(\"../../dn6_splice_coords.txt\",'r') as ofh:\n",
    "    for line in ofh:\n",
    "        line = line.strip()\n",
    "        seq_splices = []\n",
    "        if \"+\" in line:\n",
    "            multi_line = line.split(\",\")[1].split(\"/\")\n",
    "            seq_splices.append(int(multi_line[0]))\n",
    "            site_index = 1\n",
    "            while site_index < len(multi_line)-1:\n",
    "                seq_splices.append(seq_splices[site_index-1] + (int(multi_line[site_index].split(\"+\")[1]) \n",
    "                                   - int(multi_line[site_index].split(\"+\")[0])))\n",
    "                site_index += 1\n",
    "        else:\n",
    "            seq_splices.append(int(line.split(\",\")[1].split(\"/\")[0]))\n",
    "            \n",
    "        at_coords[line.split(\",\")[0]] = seq_splices\n",
    "        \n",
    "#gets the spliced extein coordinates for insertion"
   ]
  },
  {
   "cell_type": "code",
   "execution_count": null,
   "id": "4f1042fb",
   "metadata": {
    "scrolled": true
   },
   "outputs": [],
   "source": [
    "at_coords"
   ]
  },
  {
   "cell_type": "code",
   "execution_count": null,
   "id": "ba83b7b7",
   "metadata": {},
   "outputs": [],
   "source": [
    "#generate file for samtools region calls\n",
    "for target in at_coords.keys():\n",
    "    m_intein = 1\n",
    "    for site in at_coords[target]:\n",
    "        \n",
    "        print(\"extein{}:{}-{}\".format(target, site-3,site+3), file=open(\"at_samtools_coords_ext_reads.txt\",'a'))\n",
    "       # m_intein +=1\n",
    "    #then i used te following line: \n",
    "    #for f in `cat samtools_coords_ext_reads.txt`;do samtools view reads2_dn6_extein.sort.bam $f >> reads2_dn6.iis_only.sam;done\n"
   ]
  },
  {
   "cell_type": "code",
   "execution_count": null,
   "id": "be3f8f8c",
   "metadata": {},
   "outputs": [],
   "source": [
    "for target in at_coords.keys():\n",
    "    m_intein = 1\n",
    "    for site in at_coords[target]:\n",
    "        \n",
    "        print(\"extein{}_{}\\t{}\".format(target, m_intein,site), file=open(\"at_samtools_iis_exact.txt\",'a'))\n",
    "        m_intein +=1\n",
    "    #then i used te following line: \n",
    "    #for f in `cat samtools_coords_ext_reads.txt`;do samtools view reads2_dn6_extein.sort.bam $f >> reads2_dn6.iis_only.sam;done\n"
   ]
  },
  {
   "cell_type": "code",
   "execution_count": null,
   "id": "91656423",
   "metadata": {
    "scrolled": true
   },
   "outputs": [],
   "source": [
    "at_intein_iis_exact = {}\n",
    "with open(\"at_samtools_iis_exact.txt\",'r') as ofh:\n",
    "    for line in ofh:\n",
    "        at_intein_iis_exact[line.split(\"\\t\")[0]] = int(line.split(\"\\t\")[1].strip())\n",
    "at_intein_iis_exact"
   ]
  },
  {
   "cell_type": "code",
   "execution_count": null,
   "id": "a3bca4f8",
   "metadata": {
    "scrolled": true
   },
   "outputs": [],
   "source": [
    "at_iis_summary = {}\n",
    "for key in at_intein_iis_exact.keys():\n",
    "    at_iis_summary[key] = 0\n",
    "at_iis_summary"
   ]
  },
  {
   "cell_type": "code",
   "execution_count": null,
   "id": "e4a81d84",
   "metadata": {},
   "outputs": [],
   "source": [
    "len(at_iis_summary)"
   ]
  },
  {
   "cell_type": "code",
   "execution_count": null,
   "id": "5fdacafe",
   "metadata": {},
   "outputs": [],
   "source": [
    "dn6_iis_sam = pd.read_table('reads3_dn6.iis_only.sam',\n",
    "                        usecols=[0, 1, 2, 3, 4, 5, 6, 7, 8, 9, 11, 12, 13], header=None, sep='\\t')\n",
    "dn6_iis_sam.columns = ['read', 'bits', 'target_name',\n",
    "                   'pos', 'mapq', 'cigar', 'mate_target', 'mpos', 'tlen' , \"seq\", 'nm', 'as', 'xs']\n",
    "dn6_iis_sam"
   ]
  },
  {
   "cell_type": "code",
   "execution_count": null,
   "id": "6e8ebeb5",
   "metadata": {},
   "outputs": [],
   "source": [
    "#use samtools to extract reads for a position\n",
    "for intein, junction in at_intein_iis_exact.items():    \n",
    "    checker = 0\n",
    "    for indy, row in dn6_iis_sam.iterrows():\n",
    "        if row['target_name'] != intein[:-2]:\n",
    "            continue\n",
    "        if (row[\"pos\"] + 150) - junction < 15: #this cover reads that are not long enough to span insertion site, at least by 15 overhang\n",
    "            continue\n",
    "        if junction - row[\"pos\"] < 15: #if the read starts beyond the insertion site, skip\n",
    "            continue\n",
    "        if \"I\" in row[\"cigar\"]:\n",
    "            I_total =0\n",
    "            c = Cigar(row['cigar'])\n",
    "            clist = list(c.items())\n",
    "            for tupes in clist:\n",
    "                if tupes[1] == \"I\":\n",
    "                    I_total += tupes[0]\n",
    "            \n",
    "            \n",
    "         \n",
    "            if I_total < 6:\n",
    "                checker +=1\n",
    "    at_iis_summary[intein] += checker\n",
    "\n",
    "        \n"
   ]
  },
  {
   "cell_type": "code",
   "execution_count": null,
   "id": "37e05070",
   "metadata": {
    "scrolled": false
   },
   "outputs": [],
   "source": [
    "at_iis_summary"
   ]
  },
  {
   "cell_type": "code",
   "execution_count": null,
   "id": "bd15748a",
   "metadata": {},
   "outputs": [],
   "source": [
    "for name1, counts in at_iis_summary.items():\n",
    "    print(\"{}\\t{}\".format(name1,counts), file=open(\"dn6_all_compet.summary.tab\",\"a\"))"
   ]
  }
 ],
 "metadata": {
  "kernelspec": {
   "display_name": "Python 3 (ipykernel)",
   "language": "python",
   "name": "python3"
  },
  "language_info": {
   "codemirror_mode": {
    "name": "ipython",
    "version": 3
   },
   "file_extension": ".py",
   "mimetype": "text/x-python",
   "name": "python",
   "nbconvert_exporter": "python",
   "pygments_lexer": "ipython3",
   "version": "3.9.12"
  }
 },
 "nbformat": 4,
 "nbformat_minor": 5
}
